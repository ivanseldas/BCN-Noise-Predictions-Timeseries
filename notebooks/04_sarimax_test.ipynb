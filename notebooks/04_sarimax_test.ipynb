{
 "cells": [
  {
   "cell_type": "code",
   "execution_count": 1,
   "id": "7b9c66e2",
   "metadata": {},
   "outputs": [],
   "source": [
    "import pandas as pd\n",
    "import numpy as np\n",
    "from src.utils.paths import PROCESSED_DIR, CONFIGS_DIR\n",
    "from src.train import load_config"
   ]
  },
  {
   "cell_type": "code",
   "execution_count": 6,
   "id": "799ff241",
   "metadata": {},
   "outputs": [
    {
     "name": "stdout",
     "output_type": "stream",
     "text": [
      "<class 'pandas.core.frame.DataFrame'>\n",
      "DatetimeIndex: 65704 entries, 2016-07-03 08:00:00 to 2023-12-31 23:00:00\n",
      "Data columns (total 23 columns):\n",
      " #   Column                    Non-Null Count  Dtype  \n",
      "---  ------                    --------------  -----  \n",
      " 0   Id_Instal                 65704 non-null  float64\n",
      " 1   Noise_db                  65704 non-null  float64\n",
      " 2   hour                      65704 non-null  int32  \n",
      " 3   day_of_week               65704 non-null  int32  \n",
      " 4   month                     65704 non-null  int32  \n",
      " 5   year                      65704 non-null  int32  \n",
      " 6   Latitud                   65704 non-null  float64\n",
      " 7   Longitud                  65704 non-null  float64\n",
      " 8   is_weekend                65704 non-null  int64  \n",
      " 9   Lockdown_During lockdown  65704 non-null  bool   \n",
      " 10  Lockdown_Post-lockdown    65704 non-null  bool   \n",
      " 11  Lockdown_Pre-lockdown     65704 non-null  bool   \n",
      " 12  public_holiday            65704 non-null  int64  \n",
      " 13  Noise_db_lag_1            65704 non-null  float64\n",
      " 14  Noise_db_lag_24           65704 non-null  float64\n",
      " 15  Noise_db_roll_mean_3      65704 non-null  float64\n",
      " 16  Noise_db_roll_std_3       65704 non-null  float64\n",
      " 17  Noise_db_roll_mean_24     65704 non-null  float64\n",
      " 18  Noise_db_roll_std_24      65704 non-null  float64\n",
      " 19  sin_1                     65704 non-null  float64\n",
      " 20  cos_1                     65704 non-null  float64\n",
      " 21  sin_2                     65704 non-null  float64\n",
      " 22  cos_2                     65704 non-null  float64\n",
      "dtypes: bool(3), float64(14), int32(4), int64(2)\n",
      "memory usage: 9.7 MB\n"
     ]
    },
    {
     "data": {
      "text/plain": [
       "(None,\n",
       "                      Id_Instal  Noise_db  hour  day_of_week  month  year  \\\n",
       " 2015-12-08 00:00:00      496.0      69.3     0            1     12  2015   \n",
       " 2015-12-08 01:00:00      496.0      68.2     1            1     12  2015   \n",
       " 2015-12-08 02:00:00      496.0      66.2     2            1     12  2015   \n",
       " 2015-12-08 03:00:00      496.0      65.1     3            1     12  2015   \n",
       " 2015-12-08 04:00:00      496.0      65.5     4            1     12  2015   \n",
       " \n",
       "                        Latitud  Longitud  is_weekend  \\\n",
       " 2015-12-08 00:00:00  41.374878  2.161585           0   \n",
       " 2015-12-08 01:00:00  41.374878  2.161585           0   \n",
       " 2015-12-08 02:00:00  41.374878  2.161585           0   \n",
       " 2015-12-08 03:00:00  41.374878  2.161585           0   \n",
       " 2015-12-08 04:00:00  41.374878  2.161585           0   \n",
       " \n",
       "                      Lockdown_During lockdown  ...  Noise_db_lag_1  \\\n",
       " 2015-12-08 00:00:00                     False  ...            68.9   \n",
       " 2015-12-08 01:00:00                     False  ...            69.3   \n",
       " 2015-12-08 02:00:00                     False  ...            68.2   \n",
       " 2015-12-08 03:00:00                     False  ...            66.2   \n",
       " 2015-12-08 04:00:00                     False  ...            65.1   \n",
       " \n",
       "                      Noise_db_lag_24  Noise_db_roll_mean_3  \\\n",
       " 2015-12-08 00:00:00             69.0                  69.6   \n",
       " 2015-12-08 01:00:00             66.6                  68.8   \n",
       " 2015-12-08 02:00:00             65.5                  67.9   \n",
       " 2015-12-08 03:00:00             63.9                  66.5   \n",
       " 2015-12-08 04:00:00             62.6                  65.6   \n",
       " \n",
       "                      Noise_db_roll_std_3  Noise_db_roll_mean_24  \\\n",
       " 2015-12-08 00:00:00             0.888819              70.029167   \n",
       " 2015-12-08 01:00:00             0.556776              70.095833   \n",
       " 2015-12-08 02:00:00             1.571623              70.125000   \n",
       " 2015-12-08 03:00:00             1.571623              70.175000   \n",
       " 2015-12-08 04:00:00             0.556776              70.295833   \n",
       " \n",
       "                      Noise_db_roll_std_24         sin_1     cos_1  \\\n",
       " 2015-12-08 00:00:00              3.358245 -2.449294e-16  1.000000   \n",
       " 2015-12-08 01:00:00              3.302631  2.588190e-01  0.965926   \n",
       " 2015-12-08 02:00:00              3.263134  5.000000e-01  0.866025   \n",
       " 2015-12-08 03:00:00              3.171510  7.071068e-01  0.707107   \n",
       " 2015-12-08 04:00:00              2.915249  8.660254e-01  0.500000   \n",
       " \n",
       "                             sin_2         cos_2  \n",
       " 2015-12-08 00:00:00 -4.898587e-16  1.000000e+00  \n",
       " 2015-12-08 01:00:00  5.000000e-01  8.660254e-01  \n",
       " 2015-12-08 02:00:00  8.660254e-01  5.000000e-01  \n",
       " 2015-12-08 03:00:00  1.000000e+00  5.510911e-16  \n",
       " 2015-12-08 04:00:00  8.660254e-01 -5.000000e-01  \n",
       " \n",
       " [5 rows x 23 columns])"
      ]
     },
     "execution_count": 6,
     "metadata": {},
     "output_type": "execute_result"
    }
   ],
   "source": [
    "df = pd.read_parquet(PROCESSED_DIR / \"sensor_496_processed.parquet\")\n",
    "df.iloc[5000:].info(), df.head()"
   ]
  },
  {
   "cell_type": "code",
   "execution_count": 5,
   "id": "37f596ef",
   "metadata": {},
   "outputs": [
    {
     "data": {
      "text/plain": [
       "NoneType"
      ]
     },
     "execution_count": 5,
     "metadata": {},
     "output_type": "execute_result"
    }
   ],
   "source": [
    "cfg_path = CONFIGS_DIR / \"model_sarimax.yaml\"\n",
    "cfg = load_config(cfg_path)\n",
    "\n",
    "params = cfg[\"model\"]\n",
    "type(params.get(\"p\"))"
   ]
  }
 ],
 "metadata": {
  "kernelspec": {
   "display_name": "bcn-noise-project",
   "language": "python",
   "name": "python3"
  },
  "language_info": {
   "codemirror_mode": {
    "name": "ipython",
    "version": 3
   },
   "file_extension": ".py",
   "mimetype": "text/x-python",
   "name": "python",
   "nbconvert_exporter": "python",
   "pygments_lexer": "ipython3",
   "version": "3.9.21"
  }
 },
 "nbformat": 4,
 "nbformat_minor": 5
}
