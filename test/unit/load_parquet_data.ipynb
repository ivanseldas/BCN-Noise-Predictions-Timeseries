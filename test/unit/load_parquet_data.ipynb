{
 "cells": [
  {
   "cell_type": "code",
   "execution_count": 12,
   "metadata": {},
   "outputs": [
    {
     "name": "stdout",
     "output_type": "stream",
     "text": [
      "+-------------------+--------+\n",
      "|          timestamp|noise_db|\n",
      "+-------------------+--------+\n",
      "|2020-12-16 03:00:00|    57.2|\n",
      "|2023-07-08 12:00:00|    70.5|\n",
      "|2020-12-16 17:00:00|    71.0|\n",
      "|2023-07-09 22:00:00|    68.3|\n",
      "|2020-12-16 18:00:00|    70.9|\n",
      "|2023-07-11 10:00:00|    70.2|\n",
      "|2020-12-16 19:00:00|    73.7|\n",
      "|2023-07-11 16:00:00|    70.0|\n",
      "|2020-12-17 00:00:00|    60.7|\n",
      "|2023-07-15 00:00:00|    68.5|\n",
      "+-------------------+--------+\n",
      "only showing top 10 rows\n",
      "\n",
      "69328\n"
     ]
    }
   ],
   "source": [
    "import sys\n",
    "import os\n",
    "from pyspark.sql import SparkSession\n",
    "from pyspark.sql.functions import *\n",
    "\n",
    "\n",
    "spark = SparkSession.builder.appName(\"Test\").getOrCreate()\n",
    "\n",
    "folder_path = '../../data/processed/ETL/sensor_id=496'\n",
    "\n",
    "df = spark.read.parquet(folder_path)\n",
    "\n",
    "df.show(10)\n",
    "print(df.count())"
   ]
  }
 ],
 "metadata": {
  "kernelspec": {
   "display_name": "bcn-noise-project",
   "language": "python",
   "name": "python3"
  },
  "language_info": {
   "codemirror_mode": {
    "name": "ipython",
    "version": 3
   },
   "file_extension": ".py",
   "mimetype": "text/x-python",
   "name": "python",
   "nbconvert_exporter": "python",
   "pygments_lexer": "ipython3",
   "version": "3.9.21"
  }
 },
 "nbformat": 4,
 "nbformat_minor": 2
}
